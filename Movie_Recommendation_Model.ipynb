{
  "nbformat": 4,
  "nbformat_minor": 0,
  "metadata": {
    "colab": {
      "provenance": [],
      "toc_visible": true
    },
    "kernelspec": {
      "name": "python3",
      "display_name": "Python 3"
    },
    "language_info": {
      "name": "python"
    }
  },
  "cells": [
    {
      "cell_type": "markdown",
      "source": [
        "#1. Instalasi dan Import Library"
      ],
      "metadata": {
        "id": "PkG5GFRtZXkE"
      }
    },
    {
      "cell_type": "code",
      "source": [
        "# pip install pyspark\n",
        "\n",
        "from google.colab import files\n",
        "import io\n",
        "from google.colab import drive\n",
        "from pyspark.sql import SparkSession, Row\n",
        "from pyspark.ml.evaluation import RankingEvaluator\n",
        "from pyspark.ml.evaluation import RegressionEvaluator\n",
        "from pyspark.ml.recommendation import ALS\n",
        "from pyspark.ml.feature import StringIndexer, MinMaxScaler, VectorAssembler\n",
        "from pyspark.sql.functions import col, count, explode, collect_list, log1p, when, expr\n",
        "import matplotlib.pyplot as plt\n",
        "import seaborn as sns\n",
        "import math\n",
        "import matplotlib.pyplot as plt\n",
        "import seaborn as sns\n"
      ],
      "metadata": {
        "id": "-f3XMILyZbaJ"
      },
      "execution_count": 16,
      "outputs": []
    },
    {
      "cell_type": "markdown",
      "source": [
        "#2. Inisialisasi Spark"
      ],
      "metadata": {
        "id": "xE9SNwmPZ_8b"
      }
    },
    {
      "cell_type": "code",
      "source": [
        "spark = SparkSession.builder.appName(\"MovieRecommendation\").getOrCreate()"
      ],
      "metadata": {
        "id": "z1GLiXeWZeeT"
      },
      "execution_count": 2,
      "outputs": []
    },
    {
      "cell_type": "markdown",
      "source": [
        "#3. Load Data"
      ],
      "metadata": {
        "id": "ANF4GWk8aF71"
      }
    },
    {
      "cell_type": "code",
      "source": [
        "uploaded = files.upload()\n",
        "file_name = list(uploaded.keys())[0]\n",
        "df = spark.read.csv(file_name, header=True, inferSchema=True)\n",
        "df.show()\n",
        "df.count()"
      ],
      "metadata": {
        "colab": {
          "base_uri": "https://localhost:8080/",
          "height": 541
        },
        "id": "d7AL4k0ZaE4V",
        "outputId": "aa036661-1f8f-4ee6-f7be-875647ba52ed"
      },
      "execution_count": 18,
      "outputs": [
        {
          "output_type": "display_data",
          "data": {
            "text/plain": [
              "<IPython.core.display.HTML object>"
            ],
            "text/html": [
              "\n",
              "     <input type=\"file\" id=\"files-aedf86ed-2b66-4e3c-afee-b19736e6e79d\" name=\"files[]\" multiple disabled\n",
              "        style=\"border:none\" />\n",
              "     <output id=\"result-aedf86ed-2b66-4e3c-afee-b19736e6e79d\">\n",
              "      Upload widget is only available when the cell has been executed in the\n",
              "      current browser session. Please rerun this cell to enable.\n",
              "      </output>\n",
              "      <script>// Copyright 2017 Google LLC\n",
              "//\n",
              "// Licensed under the Apache License, Version 2.0 (the \"License\");\n",
              "// you may not use this file except in compliance with the License.\n",
              "// You may obtain a copy of the License at\n",
              "//\n",
              "//      http://www.apache.org/licenses/LICENSE-2.0\n",
              "//\n",
              "// Unless required by applicable law or agreed to in writing, software\n",
              "// distributed under the License is distributed on an \"AS IS\" BASIS,\n",
              "// WITHOUT WARRANTIES OR CONDITIONS OF ANY KIND, either express or implied.\n",
              "// See the License for the specific language governing permissions and\n",
              "// limitations under the License.\n",
              "\n",
              "/**\n",
              " * @fileoverview Helpers for google.colab Python module.\n",
              " */\n",
              "(function(scope) {\n",
              "function span(text, styleAttributes = {}) {\n",
              "  const element = document.createElement('span');\n",
              "  element.textContent = text;\n",
              "  for (const key of Object.keys(styleAttributes)) {\n",
              "    element.style[key] = styleAttributes[key];\n",
              "  }\n",
              "  return element;\n",
              "}\n",
              "\n",
              "// Max number of bytes which will be uploaded at a time.\n",
              "const MAX_PAYLOAD_SIZE = 100 * 1024;\n",
              "\n",
              "function _uploadFiles(inputId, outputId) {\n",
              "  const steps = uploadFilesStep(inputId, outputId);\n",
              "  const outputElement = document.getElementById(outputId);\n",
              "  // Cache steps on the outputElement to make it available for the next call\n",
              "  // to uploadFilesContinue from Python.\n",
              "  outputElement.steps = steps;\n",
              "\n",
              "  return _uploadFilesContinue(outputId);\n",
              "}\n",
              "\n",
              "// This is roughly an async generator (not supported in the browser yet),\n",
              "// where there are multiple asynchronous steps and the Python side is going\n",
              "// to poll for completion of each step.\n",
              "// This uses a Promise to block the python side on completion of each step,\n",
              "// then passes the result of the previous step as the input to the next step.\n",
              "function _uploadFilesContinue(outputId) {\n",
              "  const outputElement = document.getElementById(outputId);\n",
              "  const steps = outputElement.steps;\n",
              "\n",
              "  const next = steps.next(outputElement.lastPromiseValue);\n",
              "  return Promise.resolve(next.value.promise).then((value) => {\n",
              "    // Cache the last promise value to make it available to the next\n",
              "    // step of the generator.\n",
              "    outputElement.lastPromiseValue = value;\n",
              "    return next.value.response;\n",
              "  });\n",
              "}\n",
              "\n",
              "/**\n",
              " * Generator function which is called between each async step of the upload\n",
              " * process.\n",
              " * @param {string} inputId Element ID of the input file picker element.\n",
              " * @param {string} outputId Element ID of the output display.\n",
              " * @return {!Iterable<!Object>} Iterable of next steps.\n",
              " */\n",
              "function* uploadFilesStep(inputId, outputId) {\n",
              "  const inputElement = document.getElementById(inputId);\n",
              "  inputElement.disabled = false;\n",
              "\n",
              "  const outputElement = document.getElementById(outputId);\n",
              "  outputElement.innerHTML = '';\n",
              "\n",
              "  const pickedPromise = new Promise((resolve) => {\n",
              "    inputElement.addEventListener('change', (e) => {\n",
              "      resolve(e.target.files);\n",
              "    });\n",
              "  });\n",
              "\n",
              "  const cancel = document.createElement('button');\n",
              "  inputElement.parentElement.appendChild(cancel);\n",
              "  cancel.textContent = 'Cancel upload';\n",
              "  const cancelPromise = new Promise((resolve) => {\n",
              "    cancel.onclick = () => {\n",
              "      resolve(null);\n",
              "    };\n",
              "  });\n",
              "\n",
              "  // Wait for the user to pick the files.\n",
              "  const files = yield {\n",
              "    promise: Promise.race([pickedPromise, cancelPromise]),\n",
              "    response: {\n",
              "      action: 'starting',\n",
              "    }\n",
              "  };\n",
              "\n",
              "  cancel.remove();\n",
              "\n",
              "  // Disable the input element since further picks are not allowed.\n",
              "  inputElement.disabled = true;\n",
              "\n",
              "  if (!files) {\n",
              "    return {\n",
              "      response: {\n",
              "        action: 'complete',\n",
              "      }\n",
              "    };\n",
              "  }\n",
              "\n",
              "  for (const file of files) {\n",
              "    const li = document.createElement('li');\n",
              "    li.append(span(file.name, {fontWeight: 'bold'}));\n",
              "    li.append(span(\n",
              "        `(${file.type || 'n/a'}) - ${file.size} bytes, ` +\n",
              "        `last modified: ${\n",
              "            file.lastModifiedDate ? file.lastModifiedDate.toLocaleDateString() :\n",
              "                                    'n/a'} - `));\n",
              "    const percent = span('0% done');\n",
              "    li.appendChild(percent);\n",
              "\n",
              "    outputElement.appendChild(li);\n",
              "\n",
              "    const fileDataPromise = new Promise((resolve) => {\n",
              "      const reader = new FileReader();\n",
              "      reader.onload = (e) => {\n",
              "        resolve(e.target.result);\n",
              "      };\n",
              "      reader.readAsArrayBuffer(file);\n",
              "    });\n",
              "    // Wait for the data to be ready.\n",
              "    let fileData = yield {\n",
              "      promise: fileDataPromise,\n",
              "      response: {\n",
              "        action: 'continue',\n",
              "      }\n",
              "    };\n",
              "\n",
              "    // Use a chunked sending to avoid message size limits. See b/62115660.\n",
              "    let position = 0;\n",
              "    do {\n",
              "      const length = Math.min(fileData.byteLength - position, MAX_PAYLOAD_SIZE);\n",
              "      const chunk = new Uint8Array(fileData, position, length);\n",
              "      position += length;\n",
              "\n",
              "      const base64 = btoa(String.fromCharCode.apply(null, chunk));\n",
              "      yield {\n",
              "        response: {\n",
              "          action: 'append',\n",
              "          file: file.name,\n",
              "          data: base64,\n",
              "        },\n",
              "      };\n",
              "\n",
              "      let percentDone = fileData.byteLength === 0 ?\n",
              "          100 :\n",
              "          Math.round((position / fileData.byteLength) * 100);\n",
              "      percent.textContent = `${percentDone}% done`;\n",
              "\n",
              "    } while (position < fileData.byteLength);\n",
              "  }\n",
              "\n",
              "  // All done.\n",
              "  yield {\n",
              "    response: {\n",
              "      action: 'complete',\n",
              "    }\n",
              "  };\n",
              "}\n",
              "\n",
              "scope.google = scope.google || {};\n",
              "scope.google.colab = scope.google.colab || {};\n",
              "scope.google.colab._files = {\n",
              "  _uploadFiles,\n",
              "  _uploadFilesContinue,\n",
              "};\n",
              "})(self);\n",
              "</script> "
            ]
          },
          "metadata": {}
        },
        {
          "output_type": "stream",
          "name": "stdout",
          "text": [
            "Saving ratings_small.csv to ratings_small (1).csv\n",
            "+------+-------+------+----------+\n",
            "|userId|movieId|rating| timestamp|\n",
            "+------+-------+------+----------+\n",
            "|     1|     31|   2.5|1260759144|\n",
            "|     1|   1029|   3.0|1260759179|\n",
            "|     1|   1061|   3.0|1260759182|\n",
            "|     1|   1129|   2.0|1260759185|\n",
            "|     1|   1172|   4.0|1260759205|\n",
            "|     1|   1263|   2.0|1260759151|\n",
            "|     1|   1287|   2.0|1260759187|\n",
            "|     1|   1293|   2.0|1260759148|\n",
            "|     1|   1339|   3.5|1260759125|\n",
            "|     1|   1343|   2.0|1260759131|\n",
            "|     1|   1371|   2.5|1260759135|\n",
            "|     1|   1405|   1.0|1260759203|\n",
            "|     1|   1953|   4.0|1260759191|\n",
            "|     1|   2105|   4.0|1260759139|\n",
            "|     1|   2150|   3.0|1260759194|\n",
            "|     1|   2193|   2.0|1260759198|\n",
            "|     1|   2294|   2.0|1260759108|\n",
            "|     1|   2455|   2.5|1260759113|\n",
            "|     1|   2968|   1.0|1260759200|\n",
            "|     1|   3671|   3.0|1260759117|\n",
            "+------+-------+------+----------+\n",
            "only showing top 20 rows\n",
            "\n"
          ]
        },
        {
          "output_type": "execute_result",
          "data": {
            "text/plain": [
              "100004"
            ]
          },
          "metadata": {},
          "execution_count": 18
        }
      ]
    },
    {
      "cell_type": "markdown",
      "source": [
        "#4. Data Pre-processing"
      ],
      "metadata": {
        "id": "yt-IMY5Nah9U"
      }
    },
    {
      "cell_type": "markdown",
      "source": [
        "##a. Seleksi Data"
      ],
      "metadata": {
        "id": "HSmYiFhpalnr"
      }
    },
    {
      "cell_type": "code",
      "source": [
        "data = df.select(\"userId\", \"movieId\", \"rating\")"
      ],
      "metadata": {
        "id": "BBWLma8-aKXU"
      },
      "execution_count": 4,
      "outputs": []
    },
    {
      "cell_type": "markdown",
      "source": [
        "##b. Cek Missing Values dan Duplikat Data"
      ],
      "metadata": {
        "id": "6FnTQkYIbZDI"
      }
    },
    {
      "cell_type": "code",
      "source": [
        "print(\"Missing values per column:\")\n",
        "data.select([count(when(col(c).isNull(), c)).alias(c) for c in data.columns]).show()\n",
        "\n",
        "print(\"Duplicate rows:\")\n",
        "data.groupBy(data.columns).count().where(\"count > 1\").show()\n",
        "\n",
        "print(\"Total number of duplicate rows:\")\n",
        "print(data.count() - data.dropDuplicates().count())"
      ],
      "metadata": {
        "colab": {
          "base_uri": "https://localhost:8080/"
        },
        "id": "XxqpjFBsaqDh",
        "outputId": "22dd1c67-f11a-417c-fd9b-edf23fef1390"
      },
      "execution_count": 5,
      "outputs": [
        {
          "output_type": "stream",
          "name": "stdout",
          "text": [
            "Missing values per column:\n",
            "+------+-------+------+\n",
            "|userId|movieId|rating|\n",
            "+------+-------+------+\n",
            "|     0|      0|     0|\n",
            "+------+-------+------+\n",
            "\n",
            "Duplicate rows:\n",
            "+------+-------+------+-----+\n",
            "|userId|movieId|rating|count|\n",
            "+------+-------+------+-----+\n",
            "+------+-------+------+-----+\n",
            "\n",
            "Total number of duplicate rows:\n",
            "0\n"
          ]
        }
      ]
    },
    {
      "cell_type": "markdown",
      "source": [
        "##c. Visualisasi Data"
      ],
      "metadata": {
        "id": "KBeOCnzlbvGk"
      }
    },
    {
      "cell_type": "code",
      "source": [
        "sns.set(style=\"whitegrid\", palette=\"pastel\")\n",
        "data_pd = data.select(\"rating\").toPandas()\n",
        "plt.figure(figsize=(14, 6))\n",
        "\n",
        "# Histogram with density curve without title\n",
        "plt.figure(figsize=(7, 6))\n",
        "ax1 = sns.histplot(data_pd[\"rating\"], bins=30, kde=True,\n",
        "                  color='#4CB391', edgecolor='white', linewidth=0.5)\n",
        "plt.xlabel(\"Rating\", fontsize=12)\n",
        "plt.ylabel(\"Frekuensi\", fontsize=12)\n",
        "sns.despine(left=True)\n",
        "\n",
        "# Add mean and median lines\n",
        "mean_rating = data_pd[\"rating\"].mean()\n",
        "median_rating = data_pd[\"rating\"].median()\n",
        "ax1.axvline(mean_rating, color='#E74C3C', linestyle='--', linewidth=1.5, label=f'Mean: {mean_rating:.2f}')\n",
        "ax1.axvline(median_rating, color='#3498DB', linestyle='-', linewidth=1.5, label=f'Median: {median_rating:.2f}')\n",
        "ax1.legend()\n",
        "\n",
        "plt.tight_layout()\n",
        "plt.show();"
      ],
      "metadata": {
        "colab": {
          "base_uri": "https://localhost:8080/",
          "height": 617
        },
        "id": "wuOdLT5DbsiI",
        "outputId": "6cf8c1a2-6ab7-48b1-f13d-fc224ced9c0c"
      },
      "execution_count": 6,
      "outputs": [
        {
          "output_type": "display_data",
          "data": {
            "text/plain": [
              "<Figure size 1400x600 with 0 Axes>"
            ]
          },
          "metadata": {}
        },
        {
          "output_type": "display_data",
          "data": {
            "text/plain": [
              "<Figure size 700x600 with 1 Axes>"
            ],
            "image/png": "[encoded data removed]"
          },
          "metadata": {}
        }
      ]
    },
    {
      "cell_type": "code",
      "source": [
        "skewness = data_pd[\"rating\"].skew()\n",
        "print(f\"Skewness: {skewness:.4f}\")\n",
        "\n",
        "if skewness > 0.5:\n",
        "    skew_type = \"Right-skewed (positively skewed)\"\n",
        "elif skewness < -0.5:\n",
        "    skew_type = \"Left-skewed (negatively skewed)\"\n",
        "else:\n",
        "    skew_type = \"Approximately symmetrical\"\n",
        "\n",
        "print(f\"Jenis Skewness: {skew_type}\")"
      ],
      "metadata": {
        "colab": {
          "base_uri": "https://localhost:8080/"
        },
        "id": "KtbS0p8rs7ws",
        "outputId": "49e8cbf4-b57b-4024-9215-49f7537ccb72"
      },
      "execution_count": 7,
      "outputs": [
        {
          "output_type": "stream",
          "name": "stdout",
          "text": [
            "Skewness: -0.6676\n",
            "Jenis Skewness: Left-skewed (negatively skewed)\n"
          ]
        }
      ]
    },
    {
      "cell_type": "markdown",
      "source": [
        "##d. Split Data"
      ],
      "metadata": {
        "id": "brF_7wWncOi6"
      }
    },
    {
      "cell_type": "code",
      "source": [
        "\n",
        "splits = [(0.6, 0.4), (0.7, 0.3), (0.8, 0.2), (0.9, 0.1)]\n",
        "best_rmse = float('inf')\n",
        "best_split = None\n",
        "\n",
        "print(\"Evaluasi RMSE untuk setiap split:\")\n",
        "for train_ratio, test_ratio in splits:\n",
        "    train, test = data.randomSplit([train_ratio, test_ratio], seed=42)\n",
        "    als = ALS(\n",
        "        maxIter=10,\n",
        "        regParam=0.1,\n",
        "        userCol=\"userId\",\n",
        "        itemCol=\"movieId\",\n",
        "        ratingCol=\"rating\",\n",
        "        coldStartStrategy=\"drop\",\n",
        "        nonnegative=True,\n",
        "        implicitPrefs=False\n",
        "    )\n",
        "    model = als.fit(train)\n",
        "    predictions = model.transform(test)\n",
        "\n",
        "    evaluator = RegressionEvaluator(metricName=\"rmse\", labelCol=\"rating\", predictionCol=\"prediction\")\n",
        "    rmse = evaluator.evaluate(predictions)\n",
        "    print(f\"Split {train_ratio}:{test_ratio} - RMSE: {rmse:.4f}\")\n",
        "\n",
        "    if rmse < best_rmse:\n",
        "        best_rmse = rmse\n",
        "        best_split = (train_ratio, test_ratio)\n",
        "\n",
        "print(f\"\\nSplit terbaik: {best_split[0]}:{best_split[1]} dengan RMSE terkecil = {best_rmse:.4f}\")\n",
        "\n",
        "trainingData, testData = data.randomSplit(list(best_split), seed=42)"
      ],
      "metadata": {
        "colab": {
          "base_uri": "https://localhost:8080/"
        },
        "id": "RjYeysB7b0FJ",
        "outputId": "4be06cac-d31f-4aaa-ee51-f87512e3f7aa"
      },
      "execution_count": 8,
      "outputs": [
        {
          "output_type": "stream",
          "name": "stdout",
          "text": [
            "Evaluasi RMSE untuk setiap split:\n",
            "Split 0.6:0.4 - RMSE: 0.9408\n",
            "Split 0.7:0.3 - RMSE: 0.9229\n",
            "Split 0.8:0.2 - RMSE: 0.9123\n",
            "Split 0.9:0.1 - RMSE: 0.8986\n",
            "\n",
            "Split terbaik: 0.9:0.1 dengan RMSE terkecil = 0.8986\n"
          ]
        }
      ]
    },
    {
      "cell_type": "markdown",
      "source": [
        "#5. Pemodelan ALS dan Hyperparameter Tuning"
      ],
      "metadata": {
        "id": "GMQsvwJJcTHG"
      }
    },
    {
      "cell_type": "code",
      "source": [
        "import time\n",
        "\n",
        "ranks = [10, 15, 20, 25, 30]\n",
        "regParams = [0.01, 0.05, 0.1]\n",
        "maxIters = [5, 10]\n",
        "\n",
        "best_model = None\n",
        "best_rmse = float('inf')\n",
        "best_params = {}\n",
        "\n",
        "trainingData2, ValidationData = trainingData.randomSplit([0.9, 0.1], seed=42)\n",
        "\n",
        "print(\"\\nMulai Hyperparameter Tuning:\")\n",
        "\n",
        "for rank in ranks:\n",
        "    for regParam in regParams:\n",
        "        for maxIter in maxIters:\n",
        "            start_time = time.time()\n",
        "            als = ALS(\n",
        "                maxIter=maxIter,\n",
        "                rank=rank,\n",
        "                regParam=regParam,\n",
        "                userCol=\"userId\",\n",
        "                itemCol=\"movieId\",\n",
        "                ratingCol=\"rating\",\n",
        "                implicitPrefs=False,\n",
        "                coldStartStrategy=\"drop\",\n",
        "                nonnegative=True\n",
        "            )\n",
        "            model = als.fit(trainingData2)\n",
        "            predictions_val = model.transform(ValidationData)\n",
        "\n",
        "            evaluator_val = RegressionEvaluator(metricName=\"rmse\", labelCol=\"rating\", predictionCol=\"prediction\")\n",
        "\n",
        "            rmse = None\n",
        "            if predictions_val.count() > 0:\n",
        "                rmse = evaluator_val.evaluate(predictions_val)\n",
        "\n",
        "            end_time = time.time()\n",
        "            running_time = end_time - start_time\n",
        "\n",
        "            if rmse is not None:\n",
        "                print(f\"Rank={rank}, RegParam={regParam}, MaxIter={maxIter} → RMSE: {rmse:.4f}, Running Time: {running_time:.2f} seconds\")\n",
        "\n",
        "                if rmse < best_rmse:\n",
        "                    best_rmse = rmse\n",
        "                    best_model = model\n",
        "                    best_params = {\"rank\": rank, \"regParam\": regParam, \"maxIter\": maxIter}\n",
        "            else:\n",
        "                 print(f\"Rank={rank}, RegParam={regParam}, MaxIter={maxIter} → No predictions generated, Skipping. Running Time: {running_time:.2f} seconds\")\n",
        "\n",
        "\n",
        "print(f\"\\nBest Model Parameters: {best_params}, RMSE: {best_rmse:.4f}\")\n",
        "model = best_model"
      ],
      "metadata": {
        "id": "anJZ0D13_Cpa",
        "colab": {
          "base_uri": "https://localhost:8080/"
        },
        "outputId": "98d37bea-9b37-4d8e-c477-2295b21ec95a"
      },
      "execution_count": 9,
      "outputs": [
        {
          "output_type": "stream",
          "name": "stdout",
          "text": [
            "\n",
            "Mulai Hyperparameter Tuning:\n",
            "Rank=10, RegParam=0.01, MaxIter=5 → RMSE: 1.0331, Running Time: 11.72 seconds\n",
            "Rank=10, RegParam=0.01, MaxIter=10 → RMSE: 1.0694, Running Time: 14.49 seconds\n",
            "Rank=10, RegParam=0.05, MaxIter=5 → RMSE: 0.9515, Running Time: 10.12 seconds\n",
            "Rank=10, RegParam=0.05, MaxIter=10 → RMSE: 0.9602, Running Time: 13.14 seconds\n",
            "Rank=10, RegParam=0.1, MaxIter=5 → RMSE: 0.9139, Running Time: 8.11 seconds\n",
            "Rank=10, RegParam=0.1, MaxIter=10 → RMSE: 0.9106, Running Time: 12.28 seconds\n",
            "Rank=15, RegParam=0.01, MaxIter=5 → RMSE: 1.0426, Running Time: 10.07 seconds\n",
            "Rank=15, RegParam=0.01, MaxIter=10 → RMSE: 1.0831, Running Time: 13.64 seconds\n",
            "Rank=15, RegParam=0.05, MaxIter=5 → RMSE: 0.9464, Running Time: 7.52 seconds\n",
            "Rank=15, RegParam=0.05, MaxIter=10 → RMSE: 0.9549, Running Time: 13.11 seconds\n",
            "Rank=15, RegParam=0.1, MaxIter=5 → RMSE: 0.9004, Running Time: 9.12 seconds\n",
            "Rank=15, RegParam=0.1, MaxIter=10 → RMSE: 0.9014, Running Time: 12.46 seconds\n",
            "Rank=20, RegParam=0.01, MaxIter=5 → RMSE: 1.0686, Running Time: 8.32 seconds\n",
            "Rank=20, RegParam=0.01, MaxIter=10 → RMSE: 1.1142, Running Time: 13.39 seconds\n",
            "Rank=20, RegParam=0.05, MaxIter=5 → RMSE: 0.9525, Running Time: 9.40 seconds\n",
            "Rank=20, RegParam=0.05, MaxIter=10 → RMSE: 0.9618, Running Time: 12.58 seconds\n",
            "Rank=20, RegParam=0.1, MaxIter=5 → RMSE: 0.9006, Running Time: 7.24 seconds\n",
            "Rank=20, RegParam=0.1, MaxIter=10 → RMSE: 0.9057, Running Time: 12.22 seconds\n",
            "Rank=25, RegParam=0.01, MaxIter=5 → RMSE: 1.0749, Running Time: 10.43 seconds\n",
            "Rank=25, RegParam=0.01, MaxIter=10 → RMSE: 1.1264, Running Time: 13.83 seconds\n",
            "Rank=25, RegParam=0.05, MaxIter=5 → RMSE: 0.9557, Running Time: 7.70 seconds\n",
            "Rank=25, RegParam=0.05, MaxIter=10 → RMSE: 0.9641, Running Time: 13.48 seconds\n",
            "Rank=25, RegParam=0.1, MaxIter=5 → RMSE: 0.8996, Running Time: 9.18 seconds\n",
            "Rank=25, RegParam=0.1, MaxIter=10 → RMSE: 0.9017, Running Time: 12.96 seconds\n",
            "Rank=30, RegParam=0.01, MaxIter=5 → RMSE: 1.0945, Running Time: 8.39 seconds\n",
            "Rank=30, RegParam=0.01, MaxIter=10 → RMSE: 1.1382, Running Time: 15.57 seconds\n",
            "Rank=30, RegParam=0.05, MaxIter=5 → RMSE: 0.9577, Running Time: 9.90 seconds\n",
            "Rank=30, RegParam=0.05, MaxIter=10 → RMSE: 0.9708, Running Time: 13.95 seconds\n",
            "Rank=30, RegParam=0.1, MaxIter=5 → RMSE: 0.9012, Running Time: 10.26 seconds\n",
            "Rank=30, RegParam=0.1, MaxIter=10 → RMSE: 0.9054, Running Time: 12.91 seconds\n",
            "\n",
            "Best Model Parameters: {'rank': 25, 'regParam': 0.1, 'maxIter': 5}, RMSE: 0.8996\n"
          ]
        }
      ]
    },
    {
      "cell_type": "markdown",
      "source": [
        "#6. Loss Function"
      ],
      "metadata": {
        "id": "VkybQ7BzctRl"
      }
    },
    {
      "cell_type": "code",
      "source": [
        "plt.close('all')\n",
        "iterations = []\n",
        "training_rmse_history = []\n",
        "best_rank = best_params['rank']\n",
        "best_regParam = best_params['regParam']\n",
        "best_maxIter = best_params['maxIter']\n",
        "\n",
        "print(f\"\\nTraining ALS iteratively with best parameters (Rank={best_rank}, RegParam={best_regParam}):\")\n",
        "\n",
        "for i in range(1, best_maxIter + 1):\n",
        "    print(f\"Iteration {i}...\")\n",
        "\n",
        "    als_iter = ALS(\n",
        "        maxIter=i,\n",
        "        rank=best_rank,\n",
        "        regParam=best_regParam,\n",
        "        userCol=\"userId\",\n",
        "        itemCol=\"movieId\",\n",
        "        ratingCol=\"rating\",\n",
        "        implicitPrefs=False,\n",
        "        coldStartStrategy=\"drop\",\n",
        "        nonnegative=True,\n",
        "        seed=42\n",
        "    )\n",
        "    model_iter = als_iter.fit(trainingData2)\n",
        "    predictions_train = model_iter.transform(trainingData2)\n",
        "    predictions_train_filtered = predictions_train.filter(col(\"prediction\").isNotNull())\n",
        "\n",
        "    evaluator_train = RegressionEvaluator(metricName=\"rmse\", labelCol=\"rating\", predictionCol=\"prediction\")\n",
        "\n",
        "    if predictions_train_filtered.count() > 0:\n",
        "        rmse_train = evaluator_train.evaluate(predictions_train_filtered)\n",
        "        iterations.append(i)\n",
        "        training_rmse_history.append(rmse_train)\n",
        "        print(f\"  Training RMSE after {i} iterations: {rmse_train:.4f}\")\n",
        "    else:\n",
        "        print(f\"  No valid predictions on training data after {i} iterations. Skipping RMSE calculation.\")\n",
        "\n",
        "plt.figure(figsize=(10, 6))\n",
        "plt.plot(iterations, training_rmse_history, marker='o', linestyle='-', color='#3498DB')\n",
        "plt.title(\"Training RMSE per Iteration for ALS Model\", fontsize=16, pad=20)\n",
        "plt.xlabel(\"Iteration\", fontsize=12)\n",
        "plt.ylabel(\"Training RMSE\", fontsize=12)\n",
        "plt.grid(True, linestyle='--', alpha=0.6)\n",
        "plt.xticks(iterations)\n",
        "sns.despine()\n",
        "plt.show()\n"
      ],
      "metadata": {
        "id": "CMjiBKP3cr5t",
        "colab": {
          "base_uri": "https://localhost:8080/",
          "height": 802
        },
        "outputId": "317801e0-a5b8-4ca2-bb05-fa2a97499086"
      },
      "execution_count": 10,
      "outputs": [
        {
          "output_type": "stream",
          "name": "stdout",
          "text": [
            "\n",
            "Training ALS iteratively with best parameters (Rank=25, RegParam=0.1):\n",
            "Iteration 1...\n",
            "  Training RMSE after 1 iterations: 1.4249\n",
            "Iteration 2...\n",
            "  Training RMSE after 2 iterations: 0.6889\n",
            "Iteration 3...\n",
            "  Training RMSE after 3 iterations: 0.6067\n",
            "Iteration 4...\n",
            "  Training RMSE after 4 iterations: 0.5747\n",
            "Iteration 5...\n",
            "  Training RMSE after 5 iterations: 0.5581\n"
          ]
        },
        {
          "output_type": "display_data",
          "data": {
            "text/plain": [
              "<Figure size 1000x600 with 1 Axes>"
            ],
            "image/png": "[encoded data removed]"
          },
          "metadata": {}
        }
      ]
    },
    {
      "cell_type": "code",
      "source": [
        "iteration_errors = []\n",
        "for i in range(1, len(training_rmse_history)):\n",
        "  error = abs(training_rmse_history[i] - training_rmse_history[i-1])\n",
        "  iteration_errors.append(error)\n",
        "\n",
        "print(\"\\nError (Selisih RMSE) per Iterasi:\")\n",
        "for i, error in enumerate(iteration_errors):\n",
        "  print(f\"Iterasi {i+2} vs Iterasi {i+1}: {error:.6f}\")\n",
        "\n",
        "if iteration_errors:\n",
        "  plt.figure(figsize=(10, 6))\n",
        "  plt.plot(iterations[1:], iteration_errors, marker='o', linestyle='-', color='red')\n",
        "  plt.title(\"Error (Selisih RMSE) antar Iterasi\", fontsize=16, pad=20)\n",
        "  plt.xlabel(\"Iterasi\", fontsize=12)\n",
        "  plt.ylabel(\"Selisih RMSE\", fontsize=12)\n",
        "  plt.grid(True, linestyle='--', alpha=0.6)\n",
        "  plt.xticks(iterations[1:])\n",
        "  sns.despine()\n",
        "  plt.show()\n",
        "else:\n",
        "  print(\"Tidak cukup data untuk menghitung selisih error antar iterasi (diperlukan minimal 2 iterasi).\")"
      ],
      "metadata": {
        "id": "40Z1XWtzoe8E",
        "colab": {
          "base_uri": "https://localhost:8080/",
          "height": 698
        },
        "outputId": "83271cfe-e099-4974-9468-a8d6246286a7"
      },
      "execution_count": 11,
      "outputs": [
        {
          "output_type": "stream",
          "name": "stdout",
          "text": [
            "\n",
            "Error (Selisih RMSE) per Iterasi:\n",
            "Iterasi 2 vs Iterasi 1: 0.735984\n",
            "Iterasi 3 vs Iterasi 2: 0.082190\n",
            "Iterasi 4 vs Iterasi 3: 0.031951\n",
            "Iterasi 5 vs Iterasi 4: 0.016678\n"
          ]
        },
        {
          "output_type": "display_data",
          "data": {
            "text/plain": [
              "<Figure size 1000x600 with 1 Axes>"
            ],
            "image/png": "[encoded data removed]"
          },
          "metadata": {}
        }
      ]
    },
    {
      "cell_type": "markdown",
      "source": [
        "#7. Evaluasi Model"
      ],
      "metadata": {
        "id": "nBdCuNQPc4-E"
      }
    },
    {
      "cell_type": "markdown",
      "source": [
        "##a. Membuat Rekomendasi"
      ],
      "metadata": {
        "id": "zuUYZIjwc8LD"
      }
    },
    {
      "cell_type": "code",
      "source": [
        "predictions = model.transform(testData)"
      ],
      "metadata": {
        "id": "IAVQ1jJcc5yS"
      },
      "execution_count": 12,
      "outputs": []
    },
    {
      "cell_type": "markdown",
      "source": [
        "##b. Menghitung RMSE dan MAE"
      ],
      "metadata": {
        "id": "aDhEsfmGdAMw"
      }
    },
    {
      "cell_type": "code",
      "source": [
        "predictions_clean = predictions.dropna(subset=[\"prediction\", \"rating\"])\n",
        "\n",
        "rmse_evaluator = RegressionEvaluator(metricName=\"rmse\", labelCol=\"rating\", predictionCol=\"prediction\")\n",
        "rmse_value = rmse_evaluator.evaluate(predictions_clean)\n",
        "\n",
        "mae_evaluator = RegressionEvaluator(metricName=\"mae\", labelCol=\"rating\", predictionCol=\"prediction\")\n",
        "mae_value = mae_evaluator.evaluate(predictions_clean)\n",
        "\n",
        "print(f\"RMSE: {rmse_value:.4f}\")\n",
        "print(f\"MAE : {mae_value:.4f}\")\n"
      ],
      "metadata": {
        "id": "YojuJZjKdBIX",
        "colab": {
          "base_uri": "https://localhost:8080/"
        },
        "outputId": "d3b05214-44c6-4f6f-a790-41df916323f2"
      },
      "execution_count": 13,
      "outputs": [
        {
          "output_type": "stream",
          "name": "stdout",
          "text": [
            "RMSE: 0.9034\n",
            "MAE : 0.7046\n"
          ]
        }
      ]
    },
    {
      "cell_type": "markdown",
      "source": [
        "#8. Tampilkan Rekomendasi"
      ],
      "metadata": {
        "id": "wkF5zt_WdPH3"
      }
    },
    {
      "cell_type": "code",
      "source": [
        "userRecs = model.recommendForAllUsers(10)\n",
        "userRecs.show(truncate=False)"
      ],
      "metadata": {
        "id": "h-Eh0PFjdRP-",
        "colab": {
          "base_uri": "https://localhost:8080/"
        },
        "outputId": "3c472a49-bce6-408f-9a3a-4bf5ca3246a3"
      },
      "execution_count": 14,
      "outputs": [
        {
          "output_type": "stream",
          "name": "stdout",
          "text": [
            "+------+------------------------------------------------------------------------------------------------------------------------------------------------------------------------------------------------------+\n",
            "|userId|recommendations                                                                                                                                                                                       |\n",
            "+------+------------------------------------------------------------------------------------------------------------------------------------------------------------------------------------------------------+\n",
            "|1     |[{3672, 4.0600104}, {2361, 3.8699255}, {2563, 3.7673042}, {6413, 3.7226648}, {3963, 3.6664865}, {501, 3.6553204}, {2318, 3.6257477}, {3973, 3.6237466}, {162, 3.6112916}, {899, 3.5776465}]           |\n",
            "|2     |[{83411, 5.119183}, {83359, 5.119183}, {83318, 5.119183}, {67504, 5.119183}, {1194, 4.7430634}, {3181, 4.663735}, {106920, 4.6100807}, {72647, 4.6072645}, {31547, 4.6072645}, {26400, 4.6072645}]    |\n",
            "|3     |[{83411, 4.75625}, {83359, 4.75625}, {83318, 4.75625}, {67504, 4.75625}, {3216, 4.580072}, {65037, 4.5235505}, {97957, 4.4941683}, {6063, 4.491963}, {31435, 4.4804735}, {9010, 4.440529}]            |\n",
            "|4     |[{83411, 6.0889845}, {83359, 6.0889845}, {83318, 6.0889845}, {67504, 6.0889845}, {3030, 5.647962}, {7087, 5.5652595}, {6375, 5.5274777}, {72647, 5.4800873}, {31547, 5.4800873}, {26400, 5.4800873}]  |\n",
            "|5     |[{83411, 4.7986345}, {83359, 4.7986345}, {83318, 4.7986345}, {67504, 4.7986345}, {8535, 4.7864985}, {1192, 4.7334146}, {3015, 4.7217937}, {65037, 4.6971107}, {6375, 4.6853733}, {68073, 4.6411066}]  |\n",
            "|6     |[{83411, 5.1233864}, {83359, 5.1233864}, {83318, 5.1233864}, {67504, 5.1233864}, {26171, 4.697783}, {72647, 4.6110477}, {31547, 4.6110477}, {26400, 4.6110477}, {25764, 4.6110477}, {8797, 4.6110477}]|\n",
            "|7     |[{83411, 5.031037}, {83359, 5.031037}, {83318, 5.031037}, {67504, 5.031037}, {1223, 4.5479736}, {1859, 4.540775}, {72647, 4.5279336}, {31547, 4.5279336}, {26400, 4.5279336}, {25764, 4.5279336}]     |\n",
            "|8     |[{83411, 4.9013705}, {83359, 4.9013705}, {83318, 4.9013705}, {67504, 4.9013705}, {3030, 4.749206}, {65037, 4.7375016}, {31435, 4.692143}, {54328, 4.6871367}, {9010, 4.575018}, {131724, 4.5669465}]  |\n",
            "|9     |[{83411, 5.056427}, {83359, 5.056427}, {83318, 5.056427}, {67504, 5.056427}, {26084, 4.9053164}, {246, 4.5974402}, {3030, 4.571978}, {7136, 4.563878}, {73290, 4.5578923}, {72647, 4.550784}]         |\n",
            "|10    |[{501, 5.1521606}, {83411, 5.1426225}, {83359, 5.1426225}, {83318, 5.1426225}, {67504, 5.1426225}, {759, 4.9510703}, {26472, 4.829528}, {465, 4.8007975}, {47728, 4.7818503}, {25852, 4.7818503}]     |\n",
            "|11    |[{83411, 5.873683}, {83359, 5.873683}, {83318, 5.873683}, {67504, 5.873683}, {2563, 5.751866}, {3216, 5.559045}, {97957, 5.4320765}, {1352, 5.4104276}, {72647, 5.286314}, {31547, 5.286314}]         |\n",
            "|12    |[{3879, 4.8990135}, {3181, 4.632449}, {1211, 4.101102}, {83411, 4.0975738}, {83359, 4.0975738}, {83318, 4.0975738}, {67504, 4.0975738}, {72, 4.0883665}, {65037, 4.0435023}, {4552, 3.9696715}]       |\n",
            "|13    |[{83411, 5.0628467}, {83359, 5.0628467}, {83318, 5.0628467}, {67504, 5.0628467}, {72647, 4.556562}, {31547, 4.556562}, {26400, 4.556562}, {25764, 4.556562}, {8797, 4.556562}, {8609, 4.556562}]      |\n",
            "|14    |[{3181, 4.497547}, {65037, 4.0411043}, {31435, 3.9783509}, {8197, 3.9248219}, {4584, 3.9048991}, {76173, 3.872507}, {3677, 3.8650067}, {2542, 3.8567772}, {83411, 3.848083}, {83359, 3.848083}]       |\n",
            "|15    |[{5071, 5.037858}, {4731, 5.037858}, {4302, 5.037858}, {1859, 4.96292}, {3915, 4.8882527}, {86781, 4.7915654}, {26131, 4.736227}, {26587, 4.711024}, {149, 4.6831446}, {5893, 4.652291}]              |\n",
            "|16    |[{1352, 5.5503993}, {2563, 5.5329256}, {2361, 5.323082}, {65037, 5.2683325}, {2318, 5.261652}, {83411, 5.22125}, {83359, 5.22125}, {83318, 5.22125}, {67504, 5.22125}, {31435, 5.1804385}]            |\n",
            "|17    |[{83411, 5.3947654}, {83359, 5.3947654}, {83318, 5.3947654}, {67504, 5.3947654}, {6971, 4.9486156}, {2459, 4.935953}, {5017, 4.9192834}, {6530, 4.901293}, {3216, 4.8839216}, {72647, 4.8552885}]     |\n",
            "|18    |[{83411, 4.8174076}, {83359, 4.8174076}, {83318, 4.8174076}, {67504, 4.8174076}, {2563, 4.522478}, {26587, 4.498188}, {54328, 4.476596}, {6375, 4.439828}, {7087, 4.4395}, {893, 4.4076138}]          |\n",
            "|19    |[{83411, 5.2863503}, {83359, 5.2863503}, {83318, 5.2863503}, {67504, 5.2863503}, {72647, 4.7577143}, {31547, 4.7577143}, {26400, 4.7577143}, {25764, 4.7577143}, {8797, 4.7577143}, {8609, 4.7577143}]|\n",
            "|20    |[{51471, 4.878058}, {31116, 4.813536}, {7212, 4.7970123}, {51412, 4.7535744}, {4357, 4.6677885}, {8947, 4.623987}, {3054, 4.484166}, {8908, 4.478551}, {91104, 4.45607}, {3914, 4.402892}]            |\n",
            "+------+------------------------------------------------------------------------------------------------------------------------------------------------------------------------------------------------------+\n",
            "only showing top 20 rows\n",
            "\n"
          ]
        }
      ]
    },
    {
      "cell_type": "code",
      "source": [
        "userRecs_pd = userRecs.toPandas()\n",
        "csv_file_path = \"movie_recommendations.csv\"\n",
        "userRecs_pd.to_csv(csv_file_path, index=False)\n",
        "files.download(csv_file_path)"
      ],
      "metadata": {
        "id": "u3cChg7LR3A0",
        "colab": {
          "base_uri": "https://localhost:8080/",
          "height": 17
        },
        "outputId": "cb63a5b9-2fd7-46cd-adbe-f244f72e175b"
      },
      "execution_count": 21,
      "outputs": [
        {
          "output_type": "display_data",
          "data": {
            "text/plain": [
              "<IPython.core.display.Javascript object>"
            ],
            "application/javascript": [
              "\n",
              "    async function download(id, filename, size) {\n",
              "      if (!google.colab.kernel.accessAllowed) {\n",
              "        return;\n",
              "      }\n",
              "      const div = document.createElement('div');\n",
              "      const label = document.createElement('label');\n",
              "      label.textContent = `Downloading \"${filename}\": `;\n",
              "      div.appendChild(label);\n",
              "      const progress = document.createElement('progress');\n",
              "      progress.max = size;\n",
              "      div.appendChild(progress);\n",
              "      document.body.appendChild(div);\n",
              "\n",
              "      const buffers = [];\n",
              "      let downloaded = 0;\n",
              "\n",
              "      const channel = await google.colab.kernel.comms.open(id);\n",
              "      // Send a message to notify the kernel that we're ready.\n",
              "      channel.send({})\n",
              "\n",
              "      for await (const message of channel.messages) {\n",
              "        // Send a message to notify the kernel that we're ready.\n",
              "        channel.send({})\n",
              "        if (message.buffers) {\n",
              "          for (const buffer of message.buffers) {\n",
              "            buffers.push(buffer);\n",
              "            downloaded += buffer.byteLength;\n",
              "            progress.value = downloaded;\n",
              "          }\n",
              "        }\n",
              "      }\n",
              "      const blob = new Blob(buffers, {type: 'application/binary'});\n",
              "      const a = document.createElement('a');\n",
              "      a.href = window.URL.createObjectURL(blob);\n",
              "      a.download = filename;\n",
              "      div.appendChild(a);\n",
              "      a.click();\n",
              "      div.remove();\n",
              "    }\n",
              "  "
            ]
          },
          "metadata": {}
        },
        {
          "output_type": "display_data",
          "data": {
            "text/plain": [
              "<IPython.core.display.Javascript object>"
            ],
            "application/javascript": [
              "download(\"download_d4e203b6-bd91-481e-af63-682af6a403c7\", \"movie_recommendations.csv\", 311204)"
            ]
          },
          "metadata": {}
        }
      ]
    },
    {
      "cell_type": "code",
      "source": [],
      "metadata": {
        "id": "vCDexDQ9QnRu"
      },
      "execution_count": null,
      "outputs": []
    }
  ]
}